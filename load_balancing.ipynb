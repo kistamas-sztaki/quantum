{
 "cells": [
  {
   "cell_type": "markdown",
   "id": "4e127014-a17c-4189-a54c-88fa1e5615e5",
   "metadata": {},
   "source": [
    "# Solving a Load Balancing Problem with D-Wave Quantum Computer\n",
    "\n",
    "There are $n$ jobs $\\{J_1,\\ldots, J_n\\}$ and a single resource. Each job $J_i$ has a release date $r_i$ and a deadline $d_i$. The processing time of each job is 1 time unit, and requires 1 unit from the resource throughout its execution.\n",
    "\n",
    "We have a determine an integer starting time $S_i$ for each job $J_i$ such that $r_i\\leq S_i \\leq d_i-1$, and if $\\ell(t)$ equals the number of jobs starting at time $t$, then $\\sum_{t=0}^T \\ell(t)^2$ is minimized."
   ]
  },
  {
   "cell_type": "code",
   "execution_count": 1,
   "id": "3318b6fe-c483-4915-ba68-6768db4bf1a0",
   "metadata": {},
   "outputs": [],
   "source": [
    "import dimod\n",
    "import random\n",
    "from dwave.system import LeapHybridCQMSampler"
   ]
  },
  {
   "cell_type": "code",
   "execution_count": 2,
   "id": "be1e5308-a884-42ca-9c51-7b39fd9cfe2e",
   "metadata": {},
   "outputs": [],
   "source": [
    "TOKEN=\"DEV-ec968c99419e738f54bfe5ef26e15ae8c86b3d2f\""
   ]
  },
  {
   "cell_type": "markdown",
   "id": "64daec4c-09c7-491b-871f-d4d8dc63ad87",
   "metadata": {},
   "source": [
    "## Build a Constrained Quadratic Model\n",
    "\n",
    "A mathematical formulation of the Load Balancing Problem is\n",
    "$$\n",
    "\\begin{split}\n",
    "& \\min \\sum_{j=1}^T \\left(\\sum_{i=1}^n x_{ij}\\right)^2\\\\\n",
    "& \\sum_{j=1}^T x_{ij} =1,\\quad \\forall i \\in [n]\\\\\n",
    "& x_{ij} = 0,\\quad j \\notin [r_i,d_i-1]\\\\\n",
    "& x_{ij} \\in \\{0,1\\}\n",
    "\\end{split}\n",
    "$$\n",
    "\n"
   ]
  },
  {
   "cell_type": "code",
   "execution_count": 3,
   "id": "1bd82a59-0cf7-4fb3-ab81-13be6fa1071d",
   "metadata": {},
   "outputs": [],
   "source": [
    "def build_model(jobs : list, T : int):\n",
    "    cqm = dimod.ConstrainedQuadraticModel()\n",
    "    n = len(jobs)\n",
    "    x = [[dimod.Binary(f'x_{i}_{j}') for j in range(T)] for i in range(n) ]\n",
    "    i = 0\n",
    "    for r,d in jobs:\n",
    "        cqm.add_constraint(sum([x[i][j] for j in range(r, d)]) == 1 )\n",
    "        i=i+1\n",
    "    cqm.set_objective(sum([sum([x[i][j] for i in range(n) if j >= jobs[i][0] and j<jobs[i][1]]) **2 for j in range(T) ]))\n",
    "\n",
    "    return cqm\n",
    "\n",
    "def write_data(jobs: list, file : str):\n",
    "    with open(file, 'w') as f:\n",
    "        f.write(str(len(jobs)))\n",
    "        f.write('\\n')\n",
    "        for r, d in jobs:\n",
    "            f.write(str(r) + \" \" + str(d) + '\\n')\n",
    "        f.close()"
   ]
  },
  {
   "cell_type": "markdown",
   "id": "e0697181-3923-46f0-80a6-fae1cf951f49",
   "metadata": {},
   "source": [
    "## Generate jobs at random"
   ]
  },
  {
   "cell_type": "code",
   "execution_count": 19,
   "id": "b699d6f3-e25a-474e-abf4-75d2f65553e9",
   "metadata": {},
   "outputs": [
    {
     "name": "stdout",
     "output_type": "stream",
     "text": [
      "[[26, 37], [2, 18], [1, 16], [19, 37], [9, 23], [6, 26], [23, 39], [8, 27], [9, 25], [6, 22], [3, 15], [1, 15], [13, 33], [19, 30], [4, 16], [4, 15], [15, 28], [21, 37], [20, 31], [24, 36], [23, 40], [2, 13], [7, 17], [23, 35], [20, 33], [29, 40], [15, 30], [9, 27], [18, 28], [9, 19], [25, 44], [29, 46], [2, 12], [15, 31], [30, 50], [2, 16], [26, 39], [6, 16], [13, 24], [22, 38], [22, 40], [25, 42], [29, 39], [22, 34], [21, 33], [14, 25], [7, 17], [17, 33], [19, 36], [28, 46], [3, 15], [27, 37], [23, 35], [26, 38], [16, 26], [16, 27], [8, 26], [11, 31], [19, 37], [12, 32], [7, 17], [9, 26], [4, 19], [19, 31], [20, 39], [9, 20], [16, 32], [30, 49], [4, 18], [14, 27], [18, 32], [20, 30], [7, 21], [7, 23], [11, 25], [2, 15], [8, 23], [19, 32], [11, 29], [15, 31], [12, 23], [22, 39], [9, 27], [16, 31], [17, 36], [7, 24], [19, 29], [6, 22], [22, 42], [1, 18], [14, 30], [20, 37], [9, 22], [8, 22], [30, 45], [5, 25], [2, 16], [12, 31], [7, 22], [8, 23], [14, 31], [1, 19], [16, 35], [2, 13], [17, 33], [2, 20], [22, 33], [26, 41], [15, 26], [8, 19], [19, 33], [7, 21], [18, 31], [22, 39], [15, 28], [9, 20], [25, 39], [28, 41], [28, 42], [22, 34], [29, 46], [11, 25], [1, 11], [5, 21], [13, 27], [29, 47], [24, 41], [29, 41], [16, 27], [30, 40], [13, 29], [22, 42], [6, 19], [22, 36], [4, 16], [19, 31], [30, 43], [26, 38], [8, 21], [7, 25], [25, 45], [18, 36], [13, 26], [27, 44], [1, 19], [19, 39], [18, 29], [11, 27], [28, 39], [3, 14], [11, 31], [23, 39], [19, 36], [13, 25], [11, 28], [12, 24], [8, 22], [27, 39], [4, 23], [8, 28], [4, 19], [27, 44], [9, 29], [4, 18], [13, 23], [24, 36], [21, 41], [19, 33], [7, 22], [23, 33], [6, 20], [21, 32], [25, 44], [20, 33], [25, 36], [14, 25], [18, 34], [2, 17], [20, 35], [23, 34], [22, 35], [18, 35], [2, 19], [25, 45], [7, 23], [6, 18], [10, 25], [18, 31], [16, 34], [28, 43], [20, 30], [26, 45], [1, 11], [11, 25], [30, 44], [6, 25], [16, 26], [29, 45], [18, 38], [22, 37]] 50\n"
     ]
    }
   ],
   "source": [
    "n = 200\n",
    "horizon = 0\n",
    "jobs = []\n",
    "for i in range(n):\n",
    "    r = random.randint(1,30)\n",
    "    d = r + random.randint(10,20)\n",
    "    jobs.append([r,d])\n",
    "    if horizon < d:\n",
    "        horizon = d\n",
    "print(jobs, horizon)\n",
    "write_data(jobs,\"data_3.txt\")"
   ]
  },
  {
   "cell_type": "code",
   "execution_count": 20,
   "id": "d2fd3521-7ec4-4043-8377-32633209ee13",
   "metadata": {},
   "outputs": [],
   "source": [
    "cqm = build_model(jobs,horizon)"
   ]
  },
  {
   "cell_type": "code",
   "execution_count": 6,
   "id": "e45aebab-48b3-48f0-b8cd-ade2dbd7a4a9",
   "metadata": {},
   "outputs": [],
   "source": [
    "sampler = LeapHybridCQMSampler(token=TOKEN)"
   ]
  },
  {
   "cell_type": "code",
   "execution_count": 21,
   "id": "018c5725-e031-42f8-b3f5-dcfbebb0a66d",
   "metadata": {},
   "outputs": [
    {
     "name": "stdout",
     "output_type": "stream",
     "text": [
      "Solving using CPU took 0 seconds\n"
     ]
    }
   ],
   "source": [
    "import time\n",
    "\n",
    "start_t = time.time()\n",
    "sampleset = sampler.sample_cqm(cqm, time_limit=10, label=\"Load Balancing\")\n",
    "end_t = time.time()\n",
    "print('Solving using CPU took %d seconds' % (end_t-start_t))"
   ]
  },
  {
   "cell_type": "code",
   "execution_count": 22,
   "id": "a3a7cbe5-8501-4aca-b3af-d4d06e5f8104",
   "metadata": {},
   "outputs": [
    {
     "name": "stdout",
     "output_type": "stream",
     "text": [
      "66 feasible solutions of 103.\n",
      "best solution value:  878.0\n",
      "obj calc:  878\n"
     ]
    }
   ],
   "source": [
    "feasible_sampleset = sampleset.filter(lambda row: row.is_feasible)  \n",
    "\n",
    "if len(feasible_sampleset):      \n",
    "    best = feasible_sampleset.first\n",
    "    print(\"{} feasible solutions of {}.\".format(\n",
    "        len(feasible_sampleset), len(sampleset)))\n",
    "    print(\"best solution value: \", best.energy)\n",
    "    \n",
    "    load = [0]*horizon\n",
    "    i = 0\n",
    "    for r,d in jobs:\n",
    "        for j in range(r,d):\n",
    "            if best.sample[f'x_{i}_{j}']==1:\n",
    "                load[j] += 1\n",
    "        i=i+1\n",
    "        \n",
    "    obj = 0\n",
    "    for j in range(horizon):\n",
    "        obj += load[j]**2\n",
    "    print(\"obj calc: \" , obj)"
   ]
  },
  {
   "cell_type": "code",
   "execution_count": null,
   "id": "5ee37df5-b395-4534-a110-7751d6ed2383",
   "metadata": {},
   "outputs": [],
   "source": []
  }
 ],
 "metadata": {
  "kernelspec": {
   "display_name": "Python 3 (ipykernel)",
   "language": "python",
   "name": "python3"
  },
  "language_info": {
   "codemirror_mode": {
    "name": "ipython",
    "version": 3
   },
   "file_extension": ".py",
   "mimetype": "text/x-python",
   "name": "python",
   "nbconvert_exporter": "python",
   "pygments_lexer": "ipython3",
   "version": "3.9.2"
  }
 },
 "nbformat": 4,
 "nbformat_minor": 5
}
